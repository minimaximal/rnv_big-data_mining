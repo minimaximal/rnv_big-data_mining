{
 "cells": [
  {
   "cell_type": "code",
   "execution_count": null,
   "metadata": {},
   "outputs": [],
   "source": [
    "import pandas as pd\n",
    "import matplotlib as mp\n",
    "import matplotlib.pyplot as plt\n",
    "import pymysql\n",
    "\n",
    "db = pymysql.connect(host=\"localhost\", user=\"rnv_importer\", password=\"rnv_importer\", database=\"rnv_big_data_mining\")\n",
    "cursor = db.cursor()\n",
    "\n",
    "#vollständig\n",
    "cursor.execute(\"SELECT COUNT(*) from stops where (api_plannedDeparture is not null) and (api_realtimeDeparture is not null)\")\n",
    "correct = cursor.fetchone()[0]\n",
    "\n",
    "#canceled (korrekt)\n",
    "cursor.execute(\"SELECT Count(*) from stops inner join journeys ON stops.api_journey = journeys.id where api_canceled = 1\")\n",
    "correct += cursor.fetchone()[0]\n",
    "\n",
    "#wrong realtime, not canceled\n",
    "cursor.execute(\"SELECT Count(*) from stops inner join journeys ON stops.api_journey = journeys.id where api_canceled = 0 and stops.api_realtimeDeparture is null and (api_plannedDeparture is not null)\")\n",
    "wrongrealtime = cursor.fetchone()[0]\n",
    "\n",
    "#wrong plannedtime\n",
    "cursor.execute(\"SELECT COUNT(*) from stops where (api_realtimeDeparture is not null) and (api_plannedDeparture is null)\")\n",
    "wrongplanned = cursor.fetchone()[0]\n",
    "\n",
    "#all null\n",
    "cursor.execute(\"SELECT COUNT(*) from stops where (api_plannedDeparture is null) and (api_realtimeDeparture is null)\")\n",
    "allnull = cursor.fetchone()[0]\n",
    "\n",
    "\n",
    "df = pd.DataFrame({'Prozentual': [correct, wrongrealtime, wrongplanned, allnull]},\n",
    "                   index=['korrekt', 'Realtime Null', 'Plannedtime Null', 'keine Zeiten'])\n",
    "\n",
    "fig, ax = plt.subplots(figsize=(5, 5))\n",
    "\n",
    "# Funktion zur Generierung des Texts für autopct\n",
    "def custom_autopct(pct):\n",
    "    absolute = int(pct / 100 * df.sum().values[0])\n",
    "    return f'{pct:.1f}%\\n({absolute} Fälle)'\n",
    "\n",
    "# Pie chart mit Prozentangaben, absoluten Zahlen und custom Text\n",
    "plot = df.plot.pie(y='Prozentual', autopct=custom_autopct, labels=None, ax=ax)\n",
    "# entfernt Label (links)\n",
    "ax.set_ylabel('')\n",
    "\n",
    "# Legende anzeigen\n",
    "ax.legend(df.index, loc='upper right')\n",
    "\n",
    "plt.title('Datensatzfehler')\n",
    "plt.show()"
   ]
  }
 ],
 "metadata": {
  "kernelspec": {
   "display_name": "Python 3",
   "language": "python",
   "name": "python3"
  },
  "language_info": {
   "codemirror_mode": {
    "name": "ipython",
    "version": 3
   },
   "file_extension": ".py",
   "mimetype": "text/x-python",
   "name": "python",
   "nbconvert_exporter": "python",
   "pygments_lexer": "ipython3",
   "version": "3.11.2"
  },
  "orig_nbformat": 4
 },
 "nbformat": 4,
 "nbformat_minor": 2
}
