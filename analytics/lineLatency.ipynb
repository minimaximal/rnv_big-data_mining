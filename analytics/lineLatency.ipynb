{
 "cells": [
  {
   "cell_type": "code",
   "execution_count": null,
   "metadata": {},
   "outputs": [],
   "source": [
    "import pandas as pd\n",
    "import matplotlib as mp\n",
    "import matplotlib.pyplot as plt\n",
    "import pymysql\n",
    "\n",
    "db = pymysql.connect(host=\"localhost\", user=\"rnv_importer\", password=\"rnv_importer\", database=\"rnv_big_data_mining\")\n",
    "cursor = db.cursor()\n",
    "\n",
    "cursor.execute(\"SELECT id, api_id, api_destination_label FROM lines\")\n",
    "allLines = cursor.fetchall\n",
    "\n",
    "\n",
    "#drecks sql statement\n",
    "cursor.execute(\"SELECT COUNT(*) as anz, api_line, l.api_id, l.api_destinationLabel FROM stops LEFT JOIN 'lines' as l ON stops.api_line = l.id WHERE (api_plannedDeparture = api_realtimeDeparture) GROUP BY api_line \")\n",
    "accurateLines = cursor.fetchall()\n",
    "\n",
    "cursor.execute(\"SELECT COUNT(*) as anz, api_line, l.api_id, l.api_destinationLabel FROM stops LEFT JOIN 'lines' as l ON stops.api_line = l.id WHERE (api_plannedDeparture != api_realtimeDeparture) GROUP BY api_line \")\n",
    "delayedLines = cursor.fetchall()\n",
    "\n",
    "print(accurateLines)"
   ]
  }
 ],
 "metadata": {
  "kernelspec": {
   "display_name": "Python 3",
   "language": "python",
   "name": "python3"
  },
  "language_info": {
   "codemirror_mode": {
    "name": "ipython",
    "version": 3
   },
   "file_extension": ".py",
   "mimetype": "text/x-python",
   "name": "python",
   "nbconvert_exporter": "python",
   "pygments_lexer": "ipython3",
   "version": "3.11.2"
  }
 },
 "nbformat": 4,
 "nbformat_minor": 2
}
